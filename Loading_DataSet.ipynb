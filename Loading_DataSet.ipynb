{
 "cells": [
  {
   "cell_type": "code",
   "execution_count": 14,
   "metadata": {
    "collapsed": true
   },
   "outputs": [],
   "source": [
    "import os\n",
    "import pandas as pd\n",
    "import numpy as np\n",
    "from sklearn.feature_extraction.text import CountVectorizer\n",
    "from sklearn.naive_bayes import MultinomialNB\n",
    "from sklearn.model_selection import train_test_split, cross_val_score, cross_validate, GridSearchCV\n",
    "from sklearn.metrics import confusion_matrix, classification_report, make_scorer, f1_score\n",
    "from sklearn.svm import LinearSVC\n",
    "from sklearn.ensemble import RandomForestClassifier\n",
    "from sklearn.preprocessing import LabelBinarizer\n",
    "from sklearn.pipeline import Pipeline\n"
   ]
  },
  {
   "cell_type": "code",
   "execution_count": 15,
   "metadata": {
    "collapsed": true
   },
   "outputs": [],
   "source": [
    "# function for reading the data files\n",
    "def build_data_frame(path):\n",
    "    rows = []\n",
    "    index = []\n",
    "    classification =[]\n",
    "    for file_name, text, classification in read_files(path):\n",
    "        rows.append({'text':text, 'class': classification})\n",
    "        index.append(file_name)\n",
    "        \n",
    "    data_frame = pd.DataFrame(rows,index=index)\n",
    "    return data_frame"
   ]
  },
  {
   "cell_type": "code",
   "execution_count": 16,
   "metadata": {
    "collapsed": true
   },
   "outputs": [],
   "source": [
    "def read_files(path):\n",
    "    newline=''\n",
    "    for root, dir_names, file_names in os.walk(path):\n",
    "        print('Root folder: {0}'.format(root))\n",
    "        print('Number of files read: {0}'.format(len(file_names)))\n",
    "        for file_name in file_names:\n",
    "            file_path = os.path.join(root,file_name)\n",
    "            if(os.path.isfile(file_path)):\n",
    "                #print(file_name)\n",
    "                if(\"D\" in file_name):\n",
    "                    label=\"D\"\n",
    "                elif(\"R\" in file_name):\n",
    "                    label=\"R\"\n",
    "                else:\n",
    "                    label=\"X\"\n",
    "                lines = []\n",
    "                f = open(file_path)\n",
    "                for line in f:\n",
    "                    lines.append(line.rstrip(\"\\n\"))\n",
    "                f.close()\n",
    "                content=newline.join(lines)\n",
    "                yield file_name, content, label"
   ]
  },
  {
   "cell_type": "code",
   "execution_count": 17,
   "metadata": {},
   "outputs": [
    {
     "name": "stdout",
     "output_type": "stream",
     "text": [
      "Root folder: C:\\Users\\abhis\\AnacondaProjects\\Speech-classification\\data_set\n",
      "Number of files read: 856\n"
     ]
    }
   ],
   "source": [
    "# here I set the path of data set using os.getcwd()\n",
    "path = os.path.join(os.getcwd(), 'data_set')\n",
    "# intitalize the empty data frame\n",
    "data = pd.DataFrame({'text':[],'class':[]})\n",
    "# call the function to build the data set\n",
    "data=data.append(build_data_frame(path))"
   ]
  },
  {
   "cell_type": "code",
   "execution_count": 18,
   "metadata": {
    "collapsed": true
   },
   "outputs": [],
   "source": [
    "#Parse file name, reorder columns and print to csv\n",
    "\n",
    "file_name = pd.Series(data.index.values)\n",
    "bill, speaker, meta_date, file_name= file_name.str.split('_').str\n",
    "data['bill_id'] = bill.values\n",
    "data['speaker_id'] = speaker.values\n",
    "data['meta_date'] = meta_date.values\n",
    "data = data[['meta_date', 'speaker_id', 'class', 'bill_id', 'text']]\n",
    "data.to_csv('clean_data.csv')"
   ]
  },
  {
   "cell_type": "markdown",
   "metadata": {},
   "source": [
    "### Pipeline for executing the task"
   ]
  },
  {
   "cell_type": "code",
   "execution_count": 114,
   "metadata": {},
   "outputs": [
    {
     "name": "stdout",
     "output_type": "stream",
     "text": [
      "Running NB with (1, 1)-grams\n",
      "Running NB with (1, 2)-grams\n",
      "Running NB with (1, 3)-grams\n",
      "Running NB with (1, 4)-grams\n",
      "Running NB with (2, 2)-grams\n",
      "Running NB with (2, 3)-grams\n",
      "Running NB with (2, 4)-grams\n",
      "Running NB with (3, 3)-grams\n",
      "Running NB with (3, 4)-grams\n",
      "Running NB with (4, 4)-grams\n",
      "{(1, 1): 0.71653330542119786, (1, 2): 0.74210868502717131, (1, 3): 0.75335664278755643, (1, 4): 0.75119837058450578, (2, 2): 0.74990846823636603, (2, 3): 0.7530200988091692, (2, 4): 0.7519182364951551, (3, 3): 0.7409972535894005, (3, 4): 0.73797745168626494, (4, 4): 0.70844327241386051}\n"
     ]
    }
   ],
   "source": [
    "# using Pipeline \n",
    "\n",
    "pipeline = Pipeline([\n",
    "    ('vectorizer', CountVectorizer()),\n",
    "    ('classifier', MultinomialNB())\n",
    "])\n",
    "\n",
    "f1_R = make_scorer(f1_score,pos_label='R')\n",
    "f1_D = make_scorer(f1_score,pos_label='D')\n",
    "\n",
    "ngrams = [(1,1),(1,2),(1,3),(1,4),(2,2),(2,3),(2,4),(3,3),(3,4),(4,4)]\n",
    "ngram_scores = {}\n",
    "for ngram in ngrams:\n",
    "    print('Running NB with {0}-grams'.format(ngram))\n",
    "    pipeline.set_params(vectorizer__ngram_range=ngram)\n",
    "    score = cross_val_score(pipeline, data['text'], data['class'], cv=5, scoring=f1_R).mean()\n",
    "    ngram_scores[ngram] = score\n",
    "print(ngram_scores)"
   ]
  },
  {
   "cell_type": "markdown",
   "metadata": {},
   "source": [
    "### Pipeline with GridSearchCV with varying ngram_range and varying alpha"
   ]
  },
  {
   "cell_type": "code",
   "execution_count": 116,
   "metadata": {},
   "outputs": [
    {
     "name": "stdout",
     "output_type": "stream",
     "text": [
      "{'classifier__alpha': 0.5, 'vectorizer__ngram_range': (1, 3)}\n",
      "0.75447949512\n"
     ]
    }
   ],
   "source": [
    "pipeline.set_params(vectorizer__ngram_range=(2,4))\n",
    "param_grid = dict(classifier__alpha=[20,10,5,1, 0.5, 0.005,0.0005],vectorizer__ngram_range=[(1,3),(1,4),(2,3),(2,4)])\n",
    "grid_search = GridSearchCV(pipeline, param_grid=param_grid, scoring=f1_R, cv=5)\n",
    "grid_search.fit(data['text'], data['class'])\n",
    "print(grid_search.best_params_)\n",
    "print(grid_search.best_score_)"
   ]
  },
  {
   "cell_type": "markdown",
   "metadata": {},
   "source": [
    "### using TfidfTransformer for further processing the ngrams"
   ]
  },
  {
   "cell_type": "code",
   "execution_count": 122,
   "metadata": {},
   "outputs": [
    {
     "data": {
      "text/plain": [
       "0.66133860738683026"
      ]
     },
     "execution_count": 122,
     "metadata": {},
     "output_type": "execute_result"
    }
   ],
   "source": [
    "# using TfidTransformer\n",
    "from sklearn.feature_extraction.text import TfidfTransformer\n",
    "pipeline = Pipeline([\n",
    "    ('vectorizer',CountVectorizer(ngram_range=(2,4))),\n",
    "    #('tfidf_transformer',TfidfTransformer()),\n",
    "    ('classifier', MultinomialNB())\n",
    "])\n",
    "pipeline.set_params(vectorizer__ngram_range=(1,3))\n",
    "rscore = cross_val_score(pipeline, data['text'], data['class'], cv=5, scoring=f1_R).mean()\n",
    "dscore=cross_val_score(pipeline,data['text'],data['class'],cv=5,scoring=f1_D).mean()\n",
    "score=(rscore+dscore)/2\n",
    "score"
   ]
  },
  {
   "cell_type": "markdown",
   "metadata": {},
   "source": [
    "### Using stratifiedKFold for cross validation"
   ]
  },
  {
   "cell_type": "code",
   "execution_count": 110,
   "metadata": {},
   "outputs": [],
   "source": [
    "# using kfold for cross validation\n",
    "from sklearn.pipeline import Pipeline\n",
    "pipeline = Pipeline([\n",
    "    ('vectorizer', CountVectorizer(ngram_range=(2,4))),\n",
    "    #('tfidTransformer', TfidfTransformer()),\n",
    "    ('classifier', MultinomialNB())\n",
    "])\n",
    "\n",
    "from sklearn.model_selection import StratifiedKFold\n",
    "from sklearn.metrics import f1_score,confusion_matrix\n",
    "skf = StratifiedKFold(n_splits =10)\n",
    "#confusion =[[0,0],[0,0]]\n",
    "scores=[]\n",
    "for train_index, test_index in skf.split(data['text'],data['class']):\n",
    "    train_text = data.iloc[train_index]['text'].values\n",
    "    train_y = data.iloc[train_index]['class'].values\n",
    "    \n",
    "    test_text = data.iloc[test_index]['text'].values\n",
    "    test_y = data.iloc[test_index]['class'].values\n",
    "    \n",
    "    pipeline.fit(train_text, train_y)\n",
    "    predictions = pipeline.predict(test_text)\n",
    "    #confusion += confusion_matrix(test_y, predictions)\n",
    "    score = np.round((f1_score(test_y,predictions,pos_label='R')+f1_score(test_y,predictions,pos_label='D'))/2,decimals=2)\n",
    "    scores.append(score)"
   ]
  },
  {
   "cell_type": "code",
   "execution_count": 111,
   "metadata": {},
   "outputs": [
    {
     "data": {
      "text/plain": [
       "0.67499999999999993"
      ]
     },
     "execution_count": 111,
     "metadata": {},
     "output_type": "execute_result"
    }
   ],
   "source": [
    "np.mean(scores)"
   ]
  },
  {
   "cell_type": "code",
   "execution_count": 99,
   "metadata": {},
   "outputs": [],
   "source": [
    "#print(confusion)\n",
    "#sum(scores)/len(scores)\n",
    "#print(sum(train_y=='D'))\n",
    "#print(sum(train_y=='R'))\n",
    "#print(len(train_y))\n",
    "#print(sum(data['class']=='D'))\n",
    "#print(sum(data['class']=='R'))\n",
    "#print(len(data['class'"
   ]
  },
  {
   "cell_type": "code",
   "execution_count": 43,
   "metadata": {},
   "outputs": [],
   "source": [
    "#Create N-gram features\n",
    "x_train, x_test, y_train, y_test = train_test_split(data['text'],data['class'],test_size=0.2,random_state=2,stratify=data['class'])\n",
    "count_vectorizer = CountVectorizer(ngram_range=(1, 3))\n",
    "x_train = count_vectorizer.fit_transform(x_train)\n"
   ]
  },
  {
   "cell_type": "code",
   "execution_count": 45,
   "metadata": {},
   "outputs": [
    {
     "name": "stdout",
     "output_type": "stream",
     "text": [
      "[[50 28]\n",
      " [19 75]]\n",
      "             precision    recall  f1-score   support\n",
      "\n",
      "          D       0.72      0.64      0.68        78\n",
      "          R       0.73      0.80      0.76        94\n",
      "\n",
      "avg / total       0.73      0.73      0.72       172\n",
      "\n"
     ]
    }
   ],
   "source": [
    "#Naive Bayes classifier\n",
    "classifier = MultinomialNB()\n",
    "classifier.fit(x_train, y_train)\n",
    "#Test results\n",
    "x_test = count_vectorizer.transform(x_test)\n",
    "\n",
    "predictions = classifier.predict(x_test)\n",
    "print(confusion_matrix(y_test, predictions))\n",
    "print(classification_report(y_test, predictions))"
   ]
  },
  {
   "cell_type": "code",
   "execution_count": 49,
   "metadata": {},
   "outputs": [
    {
     "name": "stdout",
     "output_type": "stream",
     "text": [
      "             precision    recall  f1-score   support\n",
      "\n",
      "          D       0.62      0.60      0.61        78\n",
      "          R       0.68      0.69      0.68        94\n",
      "\n",
      "avg / total       0.65      0.65      0.65       172\n",
      "\n"
     ]
    }
   ],
   "source": [
    "#SVM Classifier\n",
    "classifier_svc = LinearSVC()\n",
    "classifier_svc.fit(x_train, y_train)\n",
    "predictions_svc = classifier_svc.predict(x_test)\n",
    "rep = classification_report(y_test, predictions_svc)\n",
    "print(rep)"
   ]
  },
  {
   "cell_type": "code",
   "execution_count": 76,
   "metadata": {},
   "outputs": [
    {
     "name": "stdout",
     "output_type": "stream",
     "text": [
      "             precision    recall  f1-score   support\n",
      "\n",
      "          D       0.53      0.50      0.51        78\n",
      "          R       0.60      0.63      0.61        94\n",
      "\n",
      "avg / total       0.57      0.57      0.57       172\n",
      "\n"
     ]
    }
   ],
   "source": [
    "#Random Forest Classifier\n",
    "classifier_rf = RandomForestClassifier(n_estimators=10,max_features=\"sqrt\",random_state=1)\n",
    "classifier_rf.fit(x_train, y_train)\n",
    "predictions_rf = classifier_rf.predict(x_test)\n",
    "print(classification_report(y_test, predictions_rf))"
   ]
  },
  {
   "cell_type": "code",
   "execution_count": 77,
   "metadata": {},
   "outputs": [
    {
     "data": {
      "text/plain": [
       "0.56387061403508776"
      ]
     },
     "execution_count": 77,
     "metadata": {},
     "output_type": "execute_result"
    }
   ],
   "source": [
    "(f1_score(y_test,predictions_rf,labels=[\"R\",\"D\"],pos_label=\"R\")+f1_score(y_test,predictions_rf,labels=[\"R\",\"D\"],pos_label=\"D\"))/2\n"
   ]
  },
  {
   "cell_type": "code",
   "execution_count": 78,
   "metadata": {},
   "outputs": [
    {
     "name": "stdout",
     "output_type": "stream",
     "text": [
      "             precision    recall  f1-score   support\n",
      "\n",
      "          D       0.71      0.50      0.59        78\n",
      "          R       0.67      0.83      0.74        94\n",
      "\n",
      "avg / total       0.69      0.68      0.67       172\n",
      "\n"
     ]
    }
   ],
   "source": [
    "#Random Forest Classifier\n",
    "classifier_rf = RandomForestClassifier(n_estimators=100,max_features=\"sqrt\",random_state=1)\n",
    "classifier_rf.fit(x_train, y_train)\n",
    "predictions_rf = classifier_rf.predict(x_test)\n",
    "print(classification_report(y_test, predictions_rf))"
   ]
  },
  {
   "cell_type": "code",
   "execution_count": 79,
   "metadata": {},
   "outputs": [
    {
     "data": {
      "text/plain": [
       "0.66290132915226452"
      ]
     },
     "execution_count": 79,
     "metadata": {},
     "output_type": "execute_result"
    }
   ],
   "source": [
    "(f1_score(y_test,predictions_rf,labels=[\"R\",\"D\"],pos_label=\"R\")+f1_score(y_test,predictions_rf,labels=[\"R\",\"D\"],pos_label=\"D\"))/2\n"
   ]
  },
  {
   "cell_type": "code",
   "execution_count": 80,
   "metadata": {},
   "outputs": [
    {
     "name": "stdout",
     "output_type": "stream",
     "text": [
      "             precision    recall  f1-score   support\n",
      "\n",
      "          D       0.73      0.53      0.61        78\n",
      "          R       0.68      0.84      0.75        94\n",
      "\n",
      "avg / total       0.70      0.70      0.69       172\n",
      "\n"
     ]
    }
   ],
   "source": [
    "#Random Forest Classifier\n",
    "classifier_rf = RandomForestClassifier(n_estimators=200,max_features=\"sqrt\",random_state=1)\n",
    "classifier_rf.fit(x_train, y_train)\n",
    "predictions_rf = classifier_rf.predict(x_test)\n",
    "print(classification_report(y_test, predictions_rf))"
   ]
  },
  {
   "cell_type": "code",
   "execution_count": 81,
   "metadata": {},
   "outputs": [
    {
     "data": {
      "text/plain": [
       "0.68216062544420764"
      ]
     },
     "execution_count": 81,
     "metadata": {},
     "output_type": "execute_result"
    }
   ],
   "source": [
    "(f1_score(y_test,predictions_rf,labels=[\"R\",\"D\"],pos_label=\"R\")+f1_score(y_test,predictions_rf,labels=[\"R\",\"D\"],pos_label=\"D\"))/2\n"
   ]
  },
  {
   "cell_type": "code",
   "execution_count": 82,
   "metadata": {},
   "outputs": [
    {
     "name": "stdout",
     "output_type": "stream",
     "text": [
      "             precision    recall  f1-score   support\n",
      "\n",
      "          D       0.73      0.51      0.60        78\n",
      "          R       0.68      0.84      0.75        94\n",
      "\n",
      "avg / total       0.70      0.69      0.68       172\n",
      "\n"
     ]
    }
   ],
   "source": [
    "#Random Forest Classifier\n",
    "classifier_rf = RandomForestClassifier(n_estimators=300,max_features=\"sqrt\",random_state=1)\n",
    "classifier_rf.fit(x_train, y_train)\n",
    "predictions_rf = classifier_rf.predict(x_test)\n",
    "print(classification_report(y_test, predictions_rf))"
   ]
  },
  {
   "cell_type": "code",
   "execution_count": 83,
   "metadata": {},
   "outputs": [
    {
     "data": {
      "text/plain": [
       "0.67515946263763671"
      ]
     },
     "execution_count": 83,
     "metadata": {},
     "output_type": "execute_result"
    }
   ],
   "source": [
    "(f1_score(y_test,predictions_rf,labels=[\"R\",\"D\"],pos_label=\"R\")+f1_score(y_test,predictions_rf,labels=[\"R\",\"D\"],pos_label=\"D\"))/2\n"
   ]
  },
  {
   "cell_type": "code",
   "execution_count": null,
   "metadata": {
    "collapsed": true
   },
   "outputs": [],
   "source": [
    "#Starting to create matrix for plot\n",
    "count_vectorizer_plot = CountVectorizer(ngram_range=(3, 3), max_features = 50)\n",
    "counts_plot = count_vectorizer_plot.fit_transform(data['text'])"
   ]
  },
  {
   "cell_type": "code",
   "execution_count": 89,
   "metadata": {},
   "outputs": [],
   "source": [
    "classifier_rf = RandomForestClassifier(max_features=\"sqrt\")\n",
    "estimators=list(np.arange(10,500,10))\n",
    "scores=[]\n",
    "scoreoptimal=0\n",
    "noptimal=10\n",
    "for estimator in estimators:\n",
    "    classifier_rf = RandomForestClassifier(n_estimators=estimator,max_features=\"sqrt\")\n",
    "    classifier_rf.fit(x_train, y_train)\n",
    "    predictions_rf = classifier_rf.predict(x_test)\n",
    "    score=np.round((f1_score(y_test,predictions_rf,labels=[\"R\",\"D\"],pos_label=\"R\")\n",
    "                    +f1_score(y_test,predictions_rf,labels=[\"R\",\"D\"],pos_label=\"D\"))/2,decimals=2)\n",
    "    scores.append(score)\n",
    "    if(score>scoreoptimal):\n",
    "        noptimal=estimator\n",
    "        scoreoptimal=score"
   ]
  },
  {
   "cell_type": "code",
   "execution_count": 92,
   "metadata": {},
   "outputs": [
    {
     "data": {
      "text/plain": [
       "<matplotlib.text.Text at 0x25a4e9fecf8>"
      ]
     },
     "execution_count": 92,
     "metadata": {},
     "output_type": "execute_result"
    }
   ],
   "source": [
    "import matplotlib.pyplot as plt\n",
    "plt.plot(estimators,scores)\n",
    "plt.scatter(noptimal,scoreoptimal,c=\"red\",s=50)\n",
    "plt.title(\"No of trees in model vs F1 Score\")\n",
    "plt.xlabel(\"No of trees\")\n",
    "plt.ylabel(\"F1 Score\")"
   ]
  },
  {
   "cell_type": "code",
   "execution_count": 93,
   "metadata": {},
   "outputs": [
    {
     "data": {
      "image/png": "[encoded data removed]",
      "text/plain": [
       "<matplotlib.figure.Figure at 0x25a4aca7518>"
      ]
     },
     "metadata": {},
     "output_type": "display_data"
    }
   ],
   "source": [
    "plt.show()"
   ]
  },
  {
   "cell_type": "code",
   "execution_count": 87,
   "metadata": {},
   "outputs": [],
   "source": [
    "x=round((f1_score(y_test,predictions_rf,labels=[\"R\",\"D\"],pos_label=\"R\")+f1_score(y_test,predictions_rf,labels=[\"R\",\"D\"],pos_label=\"D\"))/2\n",
    ",2)"
   ]
  },
  {
   "cell_type": "code",
   "execution_count": 98,
   "metadata": {},
   "outputs": [
    {
     "data": {
      "text/plain": [
       "0.71999999999999997"
      ]
     },
     "execution_count": 98,
     "metadata": {},
     "output_type": "execute_result"
    }
   ],
   "source": [
    "scoreoptimal"
   ]
  },
  {
   "cell_type": "code",
   "execution_count": 94,
   "metadata": {},
   "outputs": [
    {
     "data": {
      "text/plain": [
       "60"
      ]
     },
     "execution_count": 94,
     "metadata": {},
     "output_type": "execute_result"
    }
   ],
   "source": [
    "noptimal"
   ]
  },
  {
   "cell_type": "code",
   "execution_count": 97,
   "metadata": {},
   "outputs": [
    {
     "name": "stdout",
     "output_type": "stream",
     "text": [
      "             precision    recall  f1-score   support\n",
      "\n",
      "          D       0.73      0.51      0.60        78\n",
      "          R       0.68      0.84      0.75        94\n",
      "\n",
      "avg / total       0.70      0.69      0.68       172\n",
      "\n"
     ]
    }
   ],
   "source": [
    "class_rf_opt = RandomForestClassifier(n_estimators=60,max_features=\"sqrt\",random_state=1)\n",
    "class_rf_opt.fit(x_train,y_train)\n",
    "y_pred = class_rf_opt.predict(x_test)\n",
    "print(classification_report(y_test,y_pred))"
   ]
  },
  {
   "cell_type": "code",
   "execution_count": null,
   "metadata": {
    "collapsed": true
   },
   "outputs": [],
   "source": []
  }
 ],
 "metadata": {
  "kernelspec": {
   "display_name": "Python 3",
   "language": "python",
   "name": "python3"
  },
  "language_info": {
   "codemirror_mode": {
    "name": "ipython",
    "version": 3
   },
   "file_extension": ".py",
   "mimetype": "text/x-python",
   "name": "python",
   "nbconvert_exporter": "python",
   "pygments_lexer": "ipython3",
   "version": "3.6.1"
  }
 },
 "nbformat": 4,
 "nbformat_minor": 2
}
