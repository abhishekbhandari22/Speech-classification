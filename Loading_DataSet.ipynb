{
 "cells": [
  {
   "cell_type": "code",
   "execution_count": 1,
   "metadata": {
    "collapsed": true
   },
   "outputs": [],
   "source": [
    "import os\n",
    "import pandas as pd"
   ]
  },
  {
   "cell_type": "code",
   "execution_count": 2,
   "metadata": {},
   "outputs": [
    {
     "data": {
      "text/plain": [
       "'C:\\\\Users\\\\abhis\\\\AnacondaProjects\\\\Speech_Classification\\\\data_set'"
      ]
     },
     "execution_count": 2,
     "metadata": {},
     "output_type": "execute_result"
    }
   ],
   "source": [
    "# here I set the path of data set using os.getcwd()\n",
    "path =  os.getcwd()+\"\\\\data_set\"\n",
    "path"
   ]
  },
  {
   "cell_type": "code",
   "execution_count": 38,
   "metadata": {
    "collapsed": true
   },
   "outputs": [],
   "source": [
    "# intitalize the empty data frame\n",
    "data = pd.DataFrame({'text':[],'class':[]})"
   ]
  },
  {
   "cell_type": "code",
   "execution_count": 39,
   "metadata": {},
   "outputs": [
    {
     "name": "stdout",
     "output_type": "stream",
     "text": [
      "C:\\Users\\abhis\\AnacondaProjects\\Speech_Classification\\data_set\n",
      "856\n"
     ]
    }
   ],
   "source": [
    "# call the function to build the data set\n",
    "data=data.append(build_data_frame(path))"
   ]
  },
  {
   "cell_type": "code",
   "execution_count": 26,
   "metadata": {
    "collapsed": true
   },
   "outputs": [],
   "source": [
    "# function for reading the data files\n",
    "def build_data_frame(path):\n",
    "    rows = []\n",
    "    index = []\n",
    "    classification =[]\n",
    "    for file_name, text, classification in read_files(path):\n",
    "        rows.append({'text':text, 'class': classification})\n",
    "        index.append(file_name)\n",
    "        \n",
    "    data_frame = pd.DataFrame(rows,index=index)\n",
    "    return data_frame"
   ]
  },
  {
   "cell_type": "code",
   "execution_count": 27,
   "metadata": {
    "collapsed": true
   },
   "outputs": [],
   "source": [
    "def read_files(path):\n",
    "    newline=''\n",
    "    for root, dir_names, file_names in os.walk(path):\n",
    "        print(root)\n",
    "        print(len(file_names))\n",
    "        for file_name in file_names:\n",
    "            file_path = os.path.join(root,file_name)\n",
    "            if(os.path.isfile(file_path)):\n",
    "                #print(file_name)\n",
    "                if(\"D\" in file_name):\n",
    "                    label=\"D\"\n",
    "                elif(\"R\" in file_name):\n",
    "                    label=\"R\"\n",
    "                else:\n",
    "                    label=\"X\"\n",
    "                lines = []\n",
    "                f = open(file_path)\n",
    "                for line in f:\n",
    "                    lines.append(line.rstrip(\"\\n\"))\n",
    "                f.close()\n",
    "                content=newline.join(lines)\n",
    "                yield file_name, content, label"
   ]
  },
  {
   "cell_type": "code",
   "execution_count": 40,
   "metadata": {},
   "outputs": [
    {
     "data": {
      "text/plain": [
       "466"
      ]
     },
     "execution_count": 40,
     "metadata": {},
     "output_type": "execute_result"
    }
   ],
   "source": [
    "is_republican = data[\"class\"]==\"R\"\n",
    "len(data[is_republican])"
   ]
  },
  {
   "cell_type": "code",
   "execution_count": 41,
   "metadata": {},
   "outputs": [
    {
     "data": {
      "text/plain": [
       "390"
      ]
     },
     "execution_count": 41,
     "metadata": {},
     "output_type": "execute_result"
    }
   ],
   "source": [
    "is_democrate=data[\"class\"]==\"D\"\n",
    "len(data[is_democrate])"
   ]
  },
  {
   "cell_type": "code",
   "execution_count": 42,
   "metadata": {},
   "outputs": [
    {
     "data": {
      "text/html": [
       "<div>\n",
       "<style>\n",
       "    .dataframe thead tr:only-child th {\n",
       "        text-align: right;\n",
       "    }\n",
       "\n",
       "    .dataframe thead th {\n",
       "        text-align: left;\n",
       "    }\n",
       "\n",
       "    .dataframe tbody tr th {\n",
       "        vertical-align: top;\n",
       "    }\n",
       "</style>\n",
       "<table border=\"1\" class=\"dataframe\">\n",
       "  <thead>\n",
       "    <tr style=\"text-align: right;\">\n",
       "      <th></th>\n",
       "      <th>class</th>\n",
       "      <th>text</th>\n",
       "    </tr>\n",
       "  </thead>\n",
       "  <tbody>\n",
       "  </tbody>\n",
       "</table>\n",
       "</div>"
      ],
      "text/plain": [
       "Empty DataFrame\n",
       "Columns: [class, text]\n",
       "Index: []"
      ]
     },
     "execution_count": 42,
     "metadata": {},
     "output_type": "execute_result"
    }
   ],
   "source": [
    "data[data[\"class\"]==\"X\"]"
   ]
  },
  {
   "cell_type": "code",
   "execution_count": 32,
   "metadata": {},
   "outputs": [
    {
     "name": "stdout",
     "output_type": "stream",
     "text": [
      "<class 'pandas.core.frame.DataFrame'>\n",
      "Index: 858 entries, 048_400027_0297016_RMY.txt to 599_400328_2990030_ROY.txt\n",
      "Data columns (total 2 columns):\n",
      "class    858 non-null object\n",
      "text     858 non-null object\n",
      "dtypes: object(2)\n",
      "memory usage: 20.1+ KB\n"
     ]
    }
   ],
   "source": [
    "data.info()"
   ]
  },
  {
   "cell_type": "code",
   "execution_count": 36,
   "metadata": {},
   "outputs": [
    {
     "data": {
      "text/plain": [
       "Index(['class', 'text'], dtype='object')"
      ]
     },
     "execution_count": 36,
     "metadata": {},
     "output_type": "execute_result"
    }
   ],
   "source": [
    "data.columns"
   ]
  },
  {
   "cell_type": "code",
   "execution_count": null,
   "metadata": {
    "collapsed": true
   },
   "outputs": [],
   "source": []
  }
 ],
 "metadata": {
  "kernelspec": {
   "display_name": "Python 3",
   "language": "python",
   "name": "python3"
  },
  "language_info": {
   "codemirror_mode": {
    "name": "ipython",
    "version": 3
   },
   "file_extension": ".py",
   "mimetype": "text/x-python",
   "name": "python",
   "nbconvert_exporter": "python",
   "pygments_lexer": "ipython3",
   "version": "3.6.1"
  }
 },
 "nbformat": 4,
 "nbformat_minor": 2
}
